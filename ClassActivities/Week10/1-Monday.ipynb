{
  "cells": [
    {
      "cell_type": "markdown",
      "metadata": {},
      "source": [
        "# Monday, October 23\n",
        "\n",
        "## Announcements and Reminders\n",
        "\n",
        "- Chapter 10 reading: something is broken\n",
        "- Quiz on Wednesday (dictionaries)\n",
        "- Celebration of Mind Wednesday Evening\n",
        "- Exercises for Chapter 10: due Friday\n"
      ]
    },
    {
      "cell_type": "markdown",
      "metadata": {},
      "source": [
        "## Activity: Counting Words with Dictionaries\n",
        "\n",
        "Today we will continue to explore the `dictionary` type in python.\n",
        "\n",
        "### Motivating Question\n",
        "\n",
        "Which word appears most frequently in Edgar Alan Poe's poem *The Raven*?\n",
        "\n",
        "#### Strategy\n",
        "\n",
        "How would you do this by hand?  How would you keep track of your data?"
      ]
    },
    {
      "cell_type": "markdown",
      "metadata": {},
      "source": [
        "### Dictionary Basics\n",
        "\n",
        "A *dictionary* is a data type in python that holds an unordered list of *key:value* pairs.  The keys must be distinct, the values do not.  \n",
        "\n",
        "Here is an example:"
      ]
    },
    {
      "cell_type": "code",
      "execution_count": 7,
      "metadata": {},
      "outputs": [
        {
          "name": "stdout",
          "output_type": "stream",
          "text": [
            "42\n",
            "{'Oscar': 42, 'Sheldon': 73}\n",
            "42\n",
            "73\n",
            "42\n",
            "73\n",
            "[42, 73]\n"
          ]
        }
      ],
      "source": [
        "fav_nums = {'Oscar': 42, 'Sheldon': 73}\n",
        "print(fav_nums['Oscar']) #needs to be one of the keys\n",
        "print(fav_nums) \n",
        "for person in fav_nums: #everyones fav number\n",
        "    print(fav_nums[person])\n",
        "for x in fav_nums.values(): #everyones fav number\n",
        "    print(x)\n",
        "num_list = list(fav_nums.values())\n",
        "print(num_list)"
      ]
    },
    {
      "cell_type": "markdown",
      "metadata": {},
      "source": [
        "Some things to try:\n",
        "* How could we find the favorite number of someone in the dictionary?\n",
        "* How could we print out each favorite number?\n",
        "* How could we get a list of the favorite numbers?\n",
        "* How could we add a new person's favorite number?\n",
        "* How could we check whether 496 is anyone's favorite number?\n",
        "* How could we find the largest favorite number of anyone in the dictionary?\n",
        "\n",
        "Here are some dictionary methods you might try to use: `.get()`, `.items()`, `.keys()`, `.values()`, `.update()`, `.pop()`.\n"
      ]
    },
    {
      "cell_type": "code",
      "execution_count": 15,
      "metadata": {},
      "outputs": [
        {
          "name": "stdout",
          "output_type": "stream",
          "text": [
            "[('Oscar', 42), ('Sheldon', 73), ('Gigi', 8), ('Tom', 21), ('Bendi', 19)]\n",
            "{'Oscar': 42, 'Sheldon': 73, 'Gigi': 8, 'Tom': 21, 'Bendi': 19}\n",
            "{'Oscar': 42, 'Sheldon': 73, 'Gigi': 8, 'Tom': 21, 'Bendi': 19}\n",
            "True\n"
          ]
        }
      ],
      "source": [
        "print(list(fav_nums.items())) #.items()\n",
        "fav_nums.update({'Gigi':8, 'Tom':21})\n",
        "print(fav_nums)\n",
        "fav_nums['Bendi'] = 19\n",
        "print(fav_nums)\n",
        "print(42 in fav_nums.values()) #the .values() says if 42 is a value, if .values() was not added then outcome would be false"
      ]
    },
    {
      "cell_type": "code",
      "execution_count": 23,
      "metadata": {},
      "outputs": [
        {
          "name": "stdout",
          "output_type": "stream",
          "text": [
            "73\n"
          ]
        }
      ],
      "source": [
        "nums = list(fav_nums.values())\n",
        "nums.sort(reverse=True) #reverses the order of the numbers to highest to lowest \n",
        "largest = nums[0]\n",
        "print(nums[0])\n",
        "for person in fav_nums:\n",
        "    if fav_nums in [person] == largest:\n",
        "        print(person)\n"
      ]
    },
    {
      "cell_type": "markdown",
      "metadata": {},
      "source": [
        "#### Adding new elements to a dictionary\n",
        "\n",
        "With lists, we used `.append()` to add a new item to the list at the end of the list.  Or, if we want to change the item in the list at position 7 to the value 42, say, we could write `mylist[7] = 42`.\n",
        "\n",
        "Dictionaries can similarly be updated like this."
      ]
    },
    {
      "cell_type": "code",
      "execution_count": null,
      "metadata": {},
      "outputs": [],
      "source": [
        "fav_nums.update({\"Wes\":1})\n",
        "fav_nums['Edgar'] = 13\n",
        "\n",
        "print(fav_nums)"
      ]
    },
    {
      "cell_type": "markdown",
      "metadata": {},
      "source": [
        "##### Caution!\n",
        "\n",
        "What happens if you use `.update()` but there is already a key of the name you want to add?  One way to make sure this isn't the case is to use the `.get()` method.  This returns the value of the key, or if the key isn't present, it returns `None`.\n",
        "\n",
        "(You can also set a default value.)"
      ]
    },
    {
      "cell_type": "code",
      "execution_count": null,
      "metadata": {},
      "outputs": [],
      "source": [
        "fav_nums.get('Edgar')"
      ]
    },
    {
      "cell_type": "markdown",
      "metadata": {},
      "source": [
        "### Back to our main question\n",
        "\n",
        "Let's import the text of the poem (saved as `raven.txt` in this folder).  Print it out to make sure it worked."
      ]
    },
    {
      "cell_type": "code",
      "execution_count": 24,
      "metadata": {},
      "outputs": [],
      "source": [
        "with open('raven.txt', 'r') as f:\n",
        "    text = f.read()\n",
        "\n",
        "words = text.split()\n",
        "counter = 0\n",
        "for word in words:\n",
        "    if word == \"Nevermore\":\n",
        "        counter += 1\n",
        "print(counter)"
      ]
    },
    {
      "cell_type": "markdown",
      "metadata": {},
      "source": [
        "Next we should make a list of words.\n",
        "\n",
        "What about punctuation?  There are lots of different types of punctuation we need to consider.  Luckily, python has our backs with the `string` library."
      ]
    },
    {
      "cell_type": "code",
      "execution_count": 32,
      "metadata": {},
      "outputs": [
        {
          "ename": "TypeError",
          "evalue": "'int' object is not callable",
          "output_type": "error",
          "traceback": [
            "\u001b[0;31m---------------------------------------------------------------------------\u001b[0m",
            "\u001b[0;31mTypeError\u001b[0m                                 Traceback (most recent call last)",
            "\u001b[1;32m/workspaces/Fall-2023-files/ClassActivities/Week10/1-Monday.ipynb Cell 15\u001b[0m line \u001b[0;36m3\n\u001b[1;32m      <a href='vscode-notebook-cell://codespaces%2Bturbo-trout-pjr9jgggwjrj2664g/workspaces/Fall-2023-files/ClassActivities/Week10/1-Monday.ipynb#X16sdnNjb2RlLXJlbW90ZQ%3D%3D?line=0'>1</a>\u001b[0m \u001b[39mimport\u001b[39;00m \u001b[39mstring\u001b[39;00m\n\u001b[0;32m----> <a href='vscode-notebook-cell://codespaces%2Bturbo-trout-pjr9jgggwjrj2664g/workspaces/Fall-2023-files/ClassActivities/Week10/1-Monday.ipynb#X16sdnNjb2RlLXJlbW90ZQ%3D%3D?line=2'>3</a>\u001b[0m \u001b[39mprint\u001b[39;49m(string\u001b[39m.\u001b[39;49mpunctuation)\n\u001b[1;32m      <a href='vscode-notebook-cell://codespaces%2Bturbo-trout-pjr9jgggwjrj2664g/workspaces/Fall-2023-files/ClassActivities/Week10/1-Monday.ipynb#X16sdnNjb2RlLXJlbW90ZQ%3D%3D?line=4'>5</a>\u001b[0m clean_words \u001b[39m=\u001b[39m[]\n\u001b[1;32m      <a href='vscode-notebook-cell://codespaces%2Bturbo-trout-pjr9jgggwjrj2664g/workspaces/Fall-2023-files/ClassActivities/Week10/1-Monday.ipynb#X16sdnNjb2RlLXJlbW90ZQ%3D%3D?line=5'>6</a>\u001b[0m \u001b[39mfor\u001b[39;00m word \u001b[39min\u001b[39;00m words:\n",
            "\u001b[0;31mTypeError\u001b[0m: 'int' object is not callable"
          ]
        }
      ],
      "source": [
        "import string\n",
        "\n",
        "print(string.punctuation)\n",
        "\n",
        "clean_words =[]\n",
        "for word in words:\n",
        "    word = word.lower()\n",
        "    for p in string.punctuation:\n",
        "        word = word.replace(p, \"\")\n",
        "    clean_words.append(word)\n",
        "\n",
        "#print(clean_words)\n",
        "\n",
        "counter = 0\n",
        "for word in clean_words:\n",
        "    if word == \"nevermore\":\n",
        "        counter += 1\n",
        "print(counter)"
      ]
    },
    {
      "cell_type": "markdown",
      "metadata": {},
      "source": [
        "Remove all punctuation, and then create a list of words.\n",
        "\n",
        "Also, make all of them lower-case."
      ]
    },
    {
      "cell_type": "code",
      "execution_count": null,
      "metadata": {},
      "outputs": [],
      "source": []
    },
    {
      "cell_type": "markdown",
      "metadata": {},
      "source": [
        "### Counting words in the list\n",
        "\n",
        "Now we should have a list of words from the poem, not including any whitespace or punctiation and all the same case.  How can we count how many times each word appears?\n",
        "\n",
        "A few options:\n",
        "\n",
        "* For each word, we can use `.count()` to see how many times it appears and just print this.  \n",
        "* We could create a list of the number of times each word occurs in the same position as the word in the list of words.  \n",
        "* We could create a variable for each word and have it store the number of times the word occurs\n",
        "* Or we can do exactly this, but the right way: with a dictionary.\n",
        "\n",
        "Let's start working with a smaller example of a string."
      ]
    },
    {
      "cell_type": "code",
      "execution_count": 33,
      "metadata": {},
      "outputs": [
        {
          "ename": "TypeError",
          "evalue": "'int' object is not callable",
          "output_type": "error",
          "traceback": [
            "\u001b[0;31m---------------------------------------------------------------------------\u001b[0m",
            "\u001b[0;31mTypeError\u001b[0m                                 Traceback (most recent call last)",
            "\u001b[1;32m/workspaces/Fall-2023-files/ClassActivities/Week10/1-Monday.ipynb Cell 19\u001b[0m line \u001b[0;36m8\n\u001b[1;32m      <a href='vscode-notebook-cell://codespaces%2Bturbo-trout-pjr9jgggwjrj2664g/workspaces/Fall-2023-files/ClassActivities/Week10/1-Monday.ipynb#X23sdnNjb2RlLXJlbW90ZQ%3D%3D?line=4'>5</a>\u001b[0m   lyrics \u001b[39m=\u001b[39m lyrics\u001b[39m.\u001b[39mreplace(mark,\u001b[39m'\u001b[39m\u001b[39m'\u001b[39m)\n\u001b[1;32m      <a href='vscode-notebook-cell://codespaces%2Bturbo-trout-pjr9jgggwjrj2664g/workspaces/Fall-2023-files/ClassActivities/Week10/1-Monday.ipynb#X23sdnNjb2RlLXJlbW90ZQ%3D%3D?line=6'>7</a>\u001b[0m word_list \u001b[39m=\u001b[39m lyrics\u001b[39m.\u001b[39mlower()\u001b[39m.\u001b[39msplit()\n\u001b[0;32m----> <a href='vscode-notebook-cell://codespaces%2Bturbo-trout-pjr9jgggwjrj2664g/workspaces/Fall-2023-files/ClassActivities/Week10/1-Monday.ipynb#X23sdnNjb2RlLXJlbW90ZQ%3D%3D?line=7'>8</a>\u001b[0m \u001b[39mprint\u001b[39;49m(word_list)\n",
            "\u001b[0;31mTypeError\u001b[0m: 'int' object is not callable"
          ]
        }
      ],
      "source": [
        "import string\n",
        "\n",
        "lyrics = \"We can dance if we want to We can leave your friends behind 'Cause your friends don't dance And if they don't dance Well, they're no friends of mine\"\n",
        "for mark in string.punctuation:\n",
        "  lyrics = lyrics.replace(mark,'')\n",
        "\n",
        "word_list = lyrics.lower().split()\n",
        "print(word_list)\n"
      ]
    },
    {
      "cell_type": "markdown",
      "metadata": {},
      "source": [
        "Now we will create a dictionary and start adding words to it."
      ]
    },
    {
      "cell_type": "code",
      "execution_count": 35,
      "metadata": {},
      "outputs": [
        {
          "ename": "TypeError",
          "evalue": "'int' object is not callable",
          "output_type": "error",
          "traceback": [
            "\u001b[0;31m---------------------------------------------------------------------------\u001b[0m",
            "\u001b[0;31mTypeError\u001b[0m                                 Traceback (most recent call last)",
            "\u001b[1;32m/workspaces/Fall-2023-files/ClassActivities/Week10/1-Monday.ipynb Cell 21\u001b[0m line \u001b[0;36m8\n\u001b[1;32m      <a href='vscode-notebook-cell://codespaces%2Bturbo-trout-pjr9jgggwjrj2664g/workspaces/Fall-2023-files/ClassActivities/Week10/1-Monday.ipynb#X25sdnNjb2RlLXJlbW90ZQ%3D%3D?line=5'>6</a>\u001b[0m     \u001b[39melse\u001b[39;00m:\n\u001b[1;32m      <a href='vscode-notebook-cell://codespaces%2Bturbo-trout-pjr9jgggwjrj2664g/workspaces/Fall-2023-files/ClassActivities/Week10/1-Monday.ipynb#X25sdnNjb2RlLXJlbW90ZQ%3D%3D?line=6'>7</a>\u001b[0m         wordcount[word] \u001b[39m+\u001b[39m\u001b[39m=\u001b[39m \u001b[39m1\u001b[39m\n\u001b[0;32m----> <a href='vscode-notebook-cell://codespaces%2Bturbo-trout-pjr9jgggwjrj2664g/workspaces/Fall-2023-files/ClassActivities/Week10/1-Monday.ipynb#X25sdnNjb2RlLXJlbW90ZQ%3D%3D?line=7'>8</a>\u001b[0m \u001b[39mprint\u001b[39;49m(clean_words)\n\u001b[1;32m      <a href='vscode-notebook-cell://codespaces%2Bturbo-trout-pjr9jgggwjrj2664g/workspaces/Fall-2023-files/ClassActivities/Week10/1-Monday.ipynb#X25sdnNjb2RlLXJlbW90ZQ%3D%3D?line=8'>9</a>\u001b[0m \u001b[39m# loop over words is word_list, adding them to the dictionary.\u001b[39;00m\n\u001b[1;32m     <a href='vscode-notebook-cell://codespaces%2Bturbo-trout-pjr9jgggwjrj2664g/workspaces/Fall-2023-files/ClassActivities/Week10/1-Monday.ipynb#X25sdnNjb2RlLXJlbW90ZQ%3D%3D?line=9'>10</a>\u001b[0m \u001b[39m# Check to see if the word is in the dictionary.  If so, add to its counter.  Otherwise, start a new entry with counter 1.\u001b[39;00m\n",
            "\u001b[0;31mTypeError\u001b[0m: 'int' object is not callable"
          ]
        }
      ],
      "source": [
        "# start with an empty dictionary\n",
        "wordcount = {}\n",
        "for word in clean_words:\n",
        "    if word not in wordcount:\n",
        "        wordcount[word] = 1\n",
        "    else:\n",
        "        wordcount[word] += 1\n",
        "print(clean_words)\n",
        "# loop over words is word_list, adding them to the dictionary.\n",
        "# Check to see if the word is in the dictionary.  If so, add to its counter.  Otherwise, start a new entry with counter 1."
      ]
    },
    {
      "cell_type": "markdown",
      "metadata": {},
      "source": [
        "#### Sorting the dictionary\n",
        "\n",
        "You cannot sort dictionaries!  But you can sort lists, and you can create a list out of a dictionary.  The tricky bit is figuring out how to sort that list based not on the words in the list, but by the value of the key that corresponds to that word in the dictionary.\n",
        "\n",
        "The idea is this: define a function that returns some value for each key of the dictionary, and sort by these returned values."
      ]
    },
    {
      "cell_type": "code",
      "execution_count": 36,
      "metadata": {},
      "outputs": [
        {
          "ename": "TypeError",
          "evalue": "'int' object is not callable",
          "output_type": "error",
          "traceback": [
            "\u001b[0;31m---------------------------------------------------------------------------\u001b[0m",
            "\u001b[0;31mTypeError\u001b[0m                                 Traceback (most recent call last)",
            "\u001b[1;32m/workspaces/Fall-2023-files/ClassActivities/Week10/1-Monday.ipynb Cell 23\u001b[0m line \u001b[0;36m2\n\u001b[1;32m      <a href='vscode-notebook-cell://codespaces%2Bturbo-trout-pjr9jgggwjrj2664g/workspaces/Fall-2023-files/ClassActivities/Week10/1-Monday.ipynb#X31sdnNjb2RlLXJlbW90ZQ%3D%3D?line=0'>1</a>\u001b[0m results \u001b[39m=\u001b[39m \u001b[39mlist\u001b[39m(wordcount\u001b[39m.\u001b[39mitems())\n\u001b[0;32m----> <a href='vscode-notebook-cell://codespaces%2Bturbo-trout-pjr9jgggwjrj2664g/workspaces/Fall-2023-files/ClassActivities/Week10/1-Monday.ipynb#X31sdnNjb2RlLXJlbW90ZQ%3D%3D?line=1'>2</a>\u001b[0m \u001b[39mprint\u001b[39;49m(results)\n",
            "\u001b[0;31mTypeError\u001b[0m: 'int' object is not callable"
          ]
        }
      ],
      "source": [
        "results = list(wordcount.items())\n",
        "print(results)\n",
        "results.sort()\n",
        "print(results)"
      ]
    }
  ],
  "metadata": {
    "colab": {
      "include_colab_link": true,
      "provenance": []
    },
    "kernelspec": {
      "display_name": "Python 3",
      "name": "python3"
    },
    "language_info": {
      "codemirror_mode": {
        "name": "ipython",
        "version": 3
      },
      "file_extension": ".py",
      "mimetype": "text/x-python",
      "name": "python",
      "nbconvert_exporter": "python",
      "pygments_lexer": "ipython3",
      "version": "3.10.8"
    }
  },
  "nbformat": 4,
  "nbformat_minor": 0
}
