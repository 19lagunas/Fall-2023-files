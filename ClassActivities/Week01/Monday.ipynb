{
 "cells": [
  {
   "cell_type": "markdown",
   "metadata": {},
   "source": [
    "# Class Activity: Monday, August 21, 2023\n",
    "\n",
    "## Welcome to CS 130: Fundamentals of Computer Science.\n",
    "\n",
    "### What is this?\n",
    "\n",
    "Most days we will have a class activity notebook for us to work from in small groups and a class.  This is the first example of such a notebook.  \n",
    "\n",
    "Note that the extension on the filename is `ipynb`; we call this sort of file a **Jupyter Notebook** or **IPython Notebook**.  It is a file that lets you write instructions in **Markdown** (a very simply markup language for writing text) and include python code that can be executed directly inside the file (it connects to a python *kernel* to execute the code, but that is done behind the scenes).\n",
    "\n",
    "The text you are reading right now is written in that markdown syntax.  If you double click on this text, you can see what the markup looks like.  Hit `CTRL+ENTER` and you will get the nice presentation again.\n",
    "\n",
    "Below is a python cell.  If you click on it and hit `CTRL+ENTER` it will execute the code.  You can also hit the triangle to the left of the cell to execute it.  Try that now."
   ]
  },
  {
   "cell_type": "code",
   "execution_count": null,
   "metadata": {},
   "outputs": [
    {
     "ename": "",
     "evalue": "",
     "output_type": "error",
     "traceback": [
      "\u001b[1;31mRunning cells with 'c:\\Users\\oscar.levin\\.pyenv\\pyenv-win\\versions\\3.11.4\\python.exe' requires the ipykernel package.\n",
      "\u001b[1;31mRun the following command to install 'ipykernel' into the Python environment. \n",
      "\u001b[1;31mCommand: 'c:/Users/oscar.levin/.pyenv/pyenv-win/versions/3.11.4/python.exe -m pip install ipykernel -U --force-reinstall'"
     ]
    }
   ],
   "source": [
    "print(\"Hello World!\")"
   ]
  }
 ],
 "metadata": {
  "kernelspec": {
   "display_name": "Python 3",
   "language": "python",
   "name": "python3"
  },
  "language_info": {
   "name": "python",
   "version": "3.11.4"
  },
  "orig_nbformat": 4
 },
 "nbformat": 4,
 "nbformat_minor": 2
}
