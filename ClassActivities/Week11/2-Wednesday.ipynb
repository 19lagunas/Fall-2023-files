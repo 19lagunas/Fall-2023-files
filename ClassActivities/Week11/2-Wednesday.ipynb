{
  "cells": [
    {
      "cell_type": "markdown",
      "metadata": {},
      "source": [
        "# Wednesday, November 1\n",
        "\n",
        "## Announcements and Reminders\n",
        "\n",
        "- Next Project Check-in: Friday\n",
        "- Programming Assignment 5: Next Friday (but start NOW)\n"
      ]
    },
    {
      "cell_type": "markdown",
      "metadata": {},
      "source": [
        "## Activity: Sorting a Database... with tuples!\n",
        "\n",
        "Let's ***finish our*** movie database project by implementing a sorting feature.  \n",
        "\n",
        "Last time we saw how python compares tuples: first comparing the elements in position 1, then if their is a tie, comparing position 2, and so on.  If we have *list* of tuples, then we can use the `.sort()` method on that list to reorder the list so that each tuple is less than the next one.\n",
        "\n",
        "We also know that from a dictionary we can extract a list of tuples.  The question is how do we connect these."
      ]
    },
    {
      "cell_type": "markdown",
      "metadata": {},
      "source": [
        "Let's start by once again loading our movie database:"
      ]
    },
    {
      "cell_type": "code",
      "execution_count": null,
      "metadata": {},
      "outputs": [],
      "source": [
        "import csv\n",
        "\n",
        "# Open the file\n",
        "with open('../Week10/imdb.csv', 'r') as f:\n",
        "  # Use the csv library to read the data\n",
        "  data = list(csv.reader(f))\n",
        "\n",
        "# create a list of dictionaries, where each dictionary is a single movie\n",
        "moviedb = []\n",
        "for row in range(1,len(data)):\n",
        "  movie = {}\n",
        "  for col in range(len(data[0])):\n",
        "    movie[data[0][col]] = data[row][col]\n",
        "  moviedb.append(movie)\n",
        "\n",
        "# print one movie to see an example\n",
        "print(moviedb[3977])"
      ]
    },
    {
      "cell_type": "markdown",
      "metadata": {},
      "source": [
        "Let's decide on how we want to sort the movies.  What is most important?  What is next most important?\n",
        "\n",
        "For each movie, we want to create a tuple with these *values* in order."
      ]
    },
    {
      "cell_type": "code",
      "execution_count": null,
      "metadata": {},
      "outputs": [],
      "source": [
        "#Games plan: first sort by year (recent first), second by imbd rating with better movies first, third by alphabetically by title\n",
        "\n",
        "mdata = (1989, 5.2, \"Halloween 5\")\n",
        "mdata = (int(moviedb[3977]['Year']),float(moviedb[3977]['imdbRating']),moviedb[3977]['Title'])\n",
        "print(mdata)\n",
        "\n",
        "movieTL = [] #loop over dict. data base, create tuple for each dictionary, and append the tuple to list\n",
        "for movie in moviedb:\n",
        "    mdata = (int(movie['Year']),float(movie['imdbRating']),movie['Title'])\n",
        "    movieTL.append(mdata)\n",
        "\n",
        "movieTL.sort()\n",
        "print(movieTL)"
      ]
    },
    {
      "cell_type": "markdown",
      "metadata": {},
      "source": [
        "We can create a list of all the tuples, and use python to sort that list.  But how do we get the original movie database to be sorted the same way?\n",
        "\n",
        "The idea is to use our tuples as a **key** to do the sorting of the original list of dictionaries."
      ]
    },
    {
      "cell_type": "code",
      "execution_count": 15,
      "metadata": {},
      "outputs": [
        {
          "name": "stdout",
          "output_type": "stream",
          "text": [
            "The movie Baahubali 2: The Conclusion, realsed in 2017, had a rating of 8.8. It was directed by S.S. Rajamouli.\n",
            "The movie Baby Driver, realsed in 2017, had a rating of 8.5. It was directed by Edgar Wright.\n",
            "The movie Logan, realsed in 2017, had a rating of 8.3. It was directed by James Mangold.\n",
            "The movie The Great Father, realsed in 2017, had a rating of 8.3. It was directed by Haneef Adeni.\n",
            "The movie Guardians of the Galaxy Vol. 2, realsed in 2017, had a rating of 8.1. It was directed by James Gunn.\n",
            "The movie Hindi Medium, realsed in 2017, had a rating of 8.1. It was directed by Saket Chaudhary.\n",
            "The movie Spider-Man: Homecoming, realsed in 2017, had a rating of 8.1. It was directed by Jon Watts.\n",
            "The movie The Ghazi Attack, realsed in 2017, had a rating of 7.9. It was directed by Sankalp Reddy.\n",
            "The movie Beauty and the Beast, realsed in 2017, had a rating of 7.5. It was directed by Bill Condon.\n",
            "The movie Jolly LLB 2, realsed in 2017, had a rating of 7.4. It was directed by Subhash Kapoor.\n"
          ]
        }
      ],
      "source": [
        "def score(movie):\n",
        "     mdata = (2023-int(movie['Year']),10-float(movie['imdbRating']),movie['Title'])\n",
        "     return mdata\n",
        "\n",
        "moviedb.sort(key=score)\n",
        "#print(moviedb)\n",
        "for n in range(10):\n",
        "    print(f\"The movie {moviedb[n]['Title']}, realsed in {moviedb[n]['Year']}, had a rating of {moviedb[n]['imdbRating']}. It was directed by {moviedb[n]['Director']}.\")"
      ]
    }
  ],
  "metadata": {
    "colab": {
      "include_colab_link": true,
      "provenance": []
    },
    "kernelspec": {
      "display_name": "Python 3",
      "name": "python3"
    },
    "language_info": {
      "codemirror_mode": {
        "name": "ipython",
        "version": 3
      },
      "file_extension": ".py",
      "mimetype": "text/x-python",
      "name": "python",
      "nbconvert_exporter": "python",
      "pygments_lexer": "ipython3",
      "version": "3.10.8"
    }
  },
  "nbformat": 4,
  "nbformat_minor": 0
}
